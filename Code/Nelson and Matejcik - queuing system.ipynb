{
 "cells": [
  {
   "cell_type": "markdown",
   "metadata": {
    "application/vnd.databricks.v1+cell": {
     "cellMetadata": {},
     "inputWidgets": {},
     "nuid": "0b7fe927-2f53-4d8e-bfbb-576dbd68565d",
     "showTitle": false,
     "title": ""
    }
   },
   "source": [
    "# Airport queuing system"
   ]
  },
  {
   "cell_type": "markdown",
   "metadata": {
    "application/vnd.databricks.v1+cell": {
     "cellMetadata": {},
     "inputWidgets": {},
     "nuid": "345d5651-749b-41e9-80f9-e89580d546dd",
     "showTitle": false,
     "title": ""
    }
   },
   "source": [
    "#### We are simulating a simplified airport security system at a busy airport. \n",
    "\n",
    "#### Passengers arrive according to a Poisson distribution with $\\lambda_1 = 50$ per minute (i.e., mean interarrival rate $\\mu_1 = 0.2$ minutes) to the ID/boarding-pass check queue, where there are several servers who each have exponential service time with mean rate $\\mu_2 = 0.75$ minutes. \n",
    "\n",
    "#### After that, the passengers are assigned to the shortest of the several personal-check queues, where they go through the personal scanner (time is uniformly distributed between 0.5 minutes and 1 minute).\n",
    "\n",
    "#### We want to keep average wait times below 15 minutes, so there is a penality if a passenger waiting time is longer than 15 min. In addition, there is a cost associated with each ID/boarding-pass checker and personal scanner. We want to minimise "
   ]
  },
  {
   "cell_type": "markdown",
   "metadata": {
    "application/vnd.databricks.v1+cell": {
     "cellMetadata": {},
     "inputWidgets": {},
     "nuid": "15ebf137-f4bb-4db9-be9d-8ab1d1078cad",
     "showTitle": false,
     "title": ""
    }
   },
   "source": [
    "## Process steps"
   ]
  },
  {
   "cell_type": "code",
   "execution_count": 1,
   "metadata": {
    "application/vnd.databricks.v1+cell": {
     "cellMetadata": {},
     "inputWidgets": {},
     "nuid": "62bc18e6-97a0-4190-b731-236c58416d9f",
     "showTitle": false,
     "title": ""
    }
   },
   "outputs": [],
   "source": [
    "# 1. Arrive at the airport security system\n",
    "# 2. Get in the ID/boarding-pass check queue, and wait for a server.\n",
    "# 3. Get the ID/boarding-pass checked from the server.\n",
    "# 4. Get in scanners queue - the shortest\n",
    "# 5. Go through the personal scanner.\n",
    "# 6. Leave the airport security system area"
   ]
  },
  {
   "cell_type": "markdown",
   "metadata": {
    "application/vnd.databricks.v1+cell": {
     "cellMetadata": {},
     "inputWidgets": {},
     "nuid": "1e492b72-f5a9-4de1-bc43-9712e34548a7",
     "showTitle": false,
     "title": ""
    }
   },
   "source": [
    "## Setting Up the Environment"
   ]
  },
  {
   "cell_type": "code",
   "execution_count": 2,
   "metadata": {
    "application/vnd.databricks.v1+cell": {
     "cellMetadata": {},
     "inputWidgets": {},
     "nuid": "6ac937bb-0298-47ee-b5c4-7a179da7f35b",
     "showTitle": true,
     "title": "Import libraries"
    }
   },
   "outputs": [],
   "source": [
    "# ---------- Import modules -----------\n",
    "import simpy\n",
    "import random\n",
    "import statistics\n",
    "import pandas as pd\n",
    "import numpy as np"
   ]
  },
  {
   "cell_type": "code",
   "execution_count": 3,
   "metadata": {
    "application/vnd.databricks.v1+cell": {
     "cellMetadata": {},
     "inputWidgets": {},
     "nuid": "32a12757-94cf-4f6b-b23e-2fbbdc9ef3b4",
     "showTitle": false,
     "title": ""
    }
   },
   "outputs": [],
   "source": [
    "# ------------ Set constants ---------------\n",
    "num_checkers = 3 # number of boarding-pass checkers\n",
    "num_scanners = 3 # number of scanners\n",
    "\n",
    "arr_rate = 15 # arrival rate (passengers per minute)\n",
    "check_rate = 0.75 # boarding-pass check rate (minutes per passenger)\n",
    "min_scan = 0.5 # scanner minimum time for uniform distribution\n",
    "max_scan = 1.0 # scanner maximum time for uniform distribution\n",
    "run_time = 720 # run time (minutes) per simulation"
   ]
  },
  {
   "cell_type": "code",
   "execution_count": 4,
   "metadata": {},
   "outputs": [],
   "source": [
    "def calculate_exceeding_time(minutes):\n",
    "    if minutes <= 15:\n",
    "        return 0\n",
    "    else:\n",
    "        exceeding_time = minutes - 15\n",
    "        return exceeding_time"
   ]
  },
  {
   "cell_type": "markdown",
   "metadata": {
    "application/vnd.databricks.v1+cell": {
     "cellMetadata": {},
     "inputWidgets": {},
     "nuid": "6648cf3c-6c54-4b34-920e-165b496d0597",
     "showTitle": false,
     "title": ""
    }
   },
   "source": [
    "## Creating the Model"
   ]
  },
  {
   "cell_type": "code",
   "execution_count": 5,
   "metadata": {
    "application/vnd.databricks.v1+cell": {
     "cellMetadata": {},
     "inputWidgets": {},
     "nuid": "e34a6d4e-4463-4acb-9c94-6c01eef2de9d",
     "showTitle": true,
     "title": "Security Class "
    }
   },
   "outputs": [],
   "source": [
    "# System class\n",
    "\n",
    "class System(object):\n",
    "    def __init__(self,env):\n",
    "        self.env = env\n",
    "        self.checker = simpy.Resource(env,num_checkers) # define number of boarding-pass checkers\n",
    "        self.scanner = [] # define a set of scanners with 1 each; needed because each has its own queue\n",
    "        for i in range(num_scanners):\n",
    "            self.scanner.append(simpy.Resource(env,1))\n",
    "\n",
    "    # define boarding-pass check time (exponential)\n",
    "    def check(self,passenger):\n",
    "        # For some reason in python, expovariate actually uses 1 over the mean, like Poisson\n",
    "        yield self.env.timeout(random.expovariate(1.0/check_rate))\n",
    "\n",
    "    # define scan time (uniform)\n",
    "    def scan(self,passenger):\n",
    "        yield self.env.timeout(random.uniform(min_scan,max_scan))\n",
    "\n",
    "# Passenger process through system\n",
    "\n",
    "def passenger(env,name,s):\n",
    "\n",
    "    # access global variables to be able to modify them\n",
    "    global check_wait\n",
    "    global scan_wait\n",
    "    global sys_time\n",
    "    global wait_time\n",
    "    global wait_cost\n",
    "    global tot_through\n",
    "\n",
    "    time_arrive = env.now # note arrival time of passenger\n",
    "\n",
    "\n",
    "    # print('%s arrives at time %.2f' % (name,timeArrive))\n",
    "\n",
    "    # Go through boarding-pass check queue\n",
    "    with s.checker.request() as request:\n",
    "        # print('check queue length = %d' % len(s.checker.queue))\n",
    "        yield request # request a checker\n",
    "        t_in = env.now # note when passenger starts being checked\n",
    "        yield env.process(s.check(name)) # call check process\n",
    "        t_out = env.now # note when passenger ends being checked\n",
    "        check_time.append(t_out - t_in) # calculate total time for passenger to be checked\n",
    "\n",
    "    # Find the shortest scanner queue (note: scanners are numbered 0 through numScanners-1)\n",
    "    minq = 0\n",
    "    for i in range(1,num_scanners):\n",
    "        if (len(s.scanner[i].queue) < len(s.scanner[minq].queue)):\n",
    "            minq = i\n",
    "\n",
    "    # print('scanner queue %d lengths = %d' % (minq,len(s.scanner[minq].queue)))\n",
    "\n",
    "    # Go through scanner queue\n",
    "    with s.scanner[minq].request() as request: # use scanner number minq (the shortest, from above)\n",
    "        yield request # request the scanner\n",
    "        t_in = env.now # note when passenger starts being scanned\n",
    "        yield env.process(s.scan(name)) # call scan process\n",
    "        t_out = env.now # note when passenger ends being scanned\n",
    "        scan_time.append(t_out - t_in) # calculate total time for passenger to be scanned\n",
    "          \n",
    "    time_leave = env.now # note time passenger finishes\n",
    "    sys_time.append(time_leave - time_arrive) # calculate total time in system for passenger\n",
    "    wait_time.append(sys_time[tot_through]-check_time[tot_through]-scan_time[tot_through])\n",
    "    wait_cost.append(calculate_exceeding_time(wait_time[tot_through])*0.1)\n",
    "    tot_through += 1 # count another passenger who got through the system\n",
    "\n",
    "\n",
    "# Passenger arrival process\n",
    "\n",
    "def setup(env):\n",
    "    i = 0\n",
    "    s = System(env)\n",
    "    while True: # keep doing it (until simulation ends)\n",
    "        yield env.timeout(random.expovariate(arr_rate)) # find tieme until next passenger is created\n",
    "        i += 1 # count one more passenger\n",
    "\n",
    "        # send the passenger through its process\n",
    "        env.process(passenger(env,'Passenger %d' % i,s)) # name the passenger \"Passenger i\"\n",
    "        \n"
   ]
  },
  {
   "cell_type": "markdown",
   "metadata": {
    "application/vnd.databricks.v1+cell": {
     "cellMetadata": {},
     "inputWidgets": {},
     "nuid": "a0c31145-6d2a-466a-ba9b-db690437dfa7",
     "showTitle": false,
     "title": ""
    }
   },
   "source": [
    "## Run the Model"
   ]
  },
  {
   "cell_type": "code",
   "execution_count": 6,
   "metadata": {},
   "outputs": [],
   "source": [
    "min_checkers = 10\n",
    "max_checkers = 13\n",
    "min_scanners = 10\n",
    "max_scanners = 13\n",
    "n_0 = 139 # number of replications\n",
    "\n",
    "results = []\n",
    "\n",
    "for i in range(min_checkers, max_checkers,1):\n",
    "    for j in range(min_scanners, max_scanners,1):\n",
    "        l = []\n",
    "        random.seed(451)\n",
    "        for k in range(n_0):            \n",
    "            env = simpy.Environment()\n",
    "\n",
    "            # initialize global variables\n",
    "            tot_through = 0\n",
    "            check_time = []\n",
    "            scan_time = []\n",
    "            sys_time = []\n",
    "            wait_time = []\n",
    "            wait_cost = []\n",
    "            num_checkers = i\n",
    "            num_scanners = j\n",
    "            \n",
    "            # run the simulation\n",
    "            env.process(setup(env)) # start passenger arrival process\n",
    "            env.run(until=run_time) # run for runTime simulated minutes             \n",
    "            l.append(round((round(sum(wait_cost[1:tot_through]), 2) + (num_checkers + num_scanners)*(run_time/60)*150)/1000,2))\n",
    "        results.append(l)\n",
    "#             print('checkers: %d , scanners: %d , passengers %d, replication %d' % (num_checkers, num_scanners, tot_through, k+1))\n"
   ]
  },
  {
   "cell_type": "code",
   "execution_count": 7,
   "metadata": {},
   "outputs": [
    {
     "name": "stdout",
     "output_type": "stream",
     "text": [
      "[[65.28, 70.77, 60.25, 68.15, 66.25, 63.88, 65.26, 63.72, 62.52, 65.29, 61.6, 69.04, 64.2, 62.33, 59.46, 69.04, 61.41, 62.56, 59.7, 63.57, 61.57, 58.99, 55.68, 69.41, 65.88, 61.82, 65.39, 67.87, 69.34, 64.47, 60.51, 65.72, 67.08, 61.64, 62.87, 63.37, 60.02, 65.64, 68.49, 66.02, 61.28, 58.75, 62.45, 60.51, 65.66, 64.46, 60.75, 62.05, 64.68, 68.23, 63.12, 73.6, 64.78, 69.23, 59.43, 70.99, 64.92, 67.5, 67.32, 66.57, 67.4, 59.83, 63.44, 54.52, 65.71, 66.27, 68.82, 62.96, 71.22, 57.38, 60.96, 68.87, 68.24, 75.03, 57.99, 64.7, 66.81, 65.49, 64.77, 63.04, 58.33, 70.38, 65.07, 61.65, 62.39, 63.25, 67.49, 63.95, 61.07, 58.48, 64.53, 64.85, 64.52, 64.6, 70.21, 61.34, 65.61, 62.13, 62.4, 63.83, 68.09, 60.51, 68.4, 59.15, 66.12, 70.45, 61.21, 64.08, 58.25, 62.55, 64.59, 67.29, 60.87, 64.14, 61.69, 67.08, 63.57, 65.19, 67.2, 75.22, 54.52, 62.91, 66.88, 62.8, 62.55, 66.13, 62.82, 59.24, 59.37, 57.86, 63.65, 65.0, 66.71, 61.68, 59.07, 67.52, 61.03, 62.02, 62.41], [67.99, 67.07, 58.41, 62.85, 60.52, 65.25, 62.95, 63.39, 61.41, 63.02, 63.09, 67.33, 65.27, 65.01, 52.33, 60.35, 64.71, 63.49, 67.45, 61.9, 65.24, 71.08, 59.83, 63.56, 58.6, 60.16, 72.38, 62.41, 63.58, 63.13, 64.99, 67.54, 70.9, 65.58, 67.18, 55.83, 71.99, 69.74, 58.02, 69.79, 76.05, 63.81, 57.99, 64.14, 61.79, 71.37, 65.52, 65.17, 70.77, 69.86, 63.28, 62.21, 60.74, 65.68, 57.71, 68.71, 65.23, 65.57, 62.47, 71.53, 67.95, 69.03, 56.6, 63.46, 67.24, 66.58, 64.07, 67.01, 62.17, 56.36, 62.94, 66.24, 63.87, 67.5, 60.7, 64.72, 59.74, 68.53, 70.55, 60.74, 63.51, 61.28, 70.29, 57.64, 63.51, 62.19, 55.44, 63.57, 57.28, 65.95, 61.74, 59.67, 58.88, 61.9, 60.19, 64.6, 71.31, 66.81, 61.96, 64.32, 65.85, 72.06, 58.94, 65.25, 60.84, 62.18, 64.27, 72.07, 64.86, 58.48, 65.31, 64.07, 69.97, 59.51, 62.42, 66.63, 62.9, 72.12, 62.47, 57.48, 62.52, 73.28, 58.66, 56.63, 63.39, 67.62, 61.65, 58.35, 64.84, 67.67, 66.66, 65.43, 60.16, 63.02, 66.29, 61.36, 60.45, 58.26, 63.53], [65.74, 63.4, 61.06, 59.16, 61.85, 70.0, 60.91, 58.33, 64.16, 59.28, 65.77, 67.72, 68.0, 61.12, 62.55, 68.65, 70.67, 65.31, 70.48, 55.11, 73.22, 66.06, 63.05, 66.59, 65.48, 68.12, 67.34, 60.61, 63.26, 70.46, 63.22, 66.24, 63.85, 68.75, 74.55, 61.79, 53.43, 67.35, 65.76, 69.64, 59.92, 57.75, 67.62, 64.71, 57.16, 57.21, 62.02, 65.76, 60.26, 75.23, 57.88, 55.13, 66.94, 66.73, 67.19, 62.37, 68.01, 64.5, 66.15, 66.89, 65.34, 73.68, 68.37, 67.85, 61.7, 68.33, 60.45, 64.91, 63.42, 59.86, 63.17, 67.26, 62.51, 58.72, 56.44, 71.55, 61.81, 59.73, 63.26, 65.61, 64.34, 53.71, 74.19, 60.51, 66.51, 67.01, 66.76, 65.03, 64.74, 68.76, 67.23, 57.36, 65.7, 59.38, 65.38, 52.79, 60.55, 58.97, 74.45, 59.26, 65.18, 73.01, 69.13, 64.83, 62.3, 69.42, 59.92, 65.73, 65.05, 70.85, 68.61, 63.52, 64.92, 65.48, 64.29, 61.27, 62.66, 60.32, 64.38, 68.68, 66.42, 64.78, 59.64, 71.82, 61.99, 61.88, 63.9, 67.7, 69.48, 70.12, 62.93, 68.32, 63.31, 63.39, 66.26, 65.15, 63.51, 61.06, 66.96], [65.01, 58.91, 65.93, 61.49, 68.29, 59.12, 67.98, 65.97, 60.53, 64.46, 65.56, 60.81, 68.02, 58.92, 57.05, 65.19, 59.16, 64.66, 59.61, 70.91, 59.67, 63.35, 55.29, 67.47, 61.75, 64.46, 63.99, 69.43, 64.5, 66.49, 64.35, 70.21, 61.57, 61.95, 57.48, 60.27, 60.68, 58.18, 61.4, 58.97, 61.85, 60.34, 62.82, 61.39, 64.84, 63.6, 61.53, 66.55, 64.53, 67.47, 61.43, 60.5, 67.54, 68.94, 68.99, 60.84, 65.16, 66.23, 60.91, 67.85, 64.35, 60.46, 61.61, 61.74, 59.54, 62.95, 63.55, 57.77, 57.6, 65.03, 60.37, 64.57, 60.16, 69.65, 64.84, 62.35, 59.86, 71.14, 59.81, 57.0, 69.84, 67.68, 59.39, 74.38, 65.15, 63.82, 65.03, 68.9, 64.58, 66.33, 67.69, 59.25, 61.02, 64.85, 63.21, 65.54, 67.17, 63.84, 70.48, 62.94, 55.25, 65.06, 61.75, 59.74, 67.56, 67.83, 65.16, 66.02, 68.41, 68.05, 67.26, 63.5, 66.31, 68.02, 57.26, 66.96, 66.0, 61.38, 65.01, 71.05, 63.19, 64.38, 62.33, 56.01, 64.32, 58.19, 65.09, 62.22, 69.51, 61.48, 67.21, 65.09, 59.9, 64.13, 65.99, 56.94, 72.33, 62.41, 62.75], [41.13, 43.76, 39.94, 42.78, 46.0, 41.1, 43.33, 44.15, 40.52, 44.4, 42.18, 44.67, 41.64, 41.14, 46.47, 40.47, 41.41, 43.82, 45.47, 41.58, 39.6, 42.4, 41.06, 40.46, 43.37, 42.88, 47.17, 40.64, 43.25, 42.06, 42.24, 43.31, 41.78, 40.11, 41.66, 46.56, 41.87, 51.29, 39.62, 45.27, 47.53, 42.09, 44.13, 42.66, 39.81, 42.0, 39.69, 42.01, 39.78, 45.85, 44.27, 43.5, 40.94, 41.39, 40.21, 41.36, 39.6, 44.43, 39.86, 42.73, 39.62, 44.88, 39.98, 40.19, 40.77, 39.8, 42.61, 40.51, 46.12, 41.04, 43.27, 39.71, 42.46, 42.42, 47.46, 42.95, 40.5, 47.99, 40.14, 41.18, 40.86, 40.87, 41.35, 40.16, 45.71, 39.62, 43.92, 40.4, 49.84, 44.82, 41.25, 39.78, 41.18, 39.6, 41.98, 49.41, 40.93, 43.75, 41.37, 43.02, 39.63, 42.43, 43.79, 44.48, 39.68, 44.11, 47.84, 39.77, 39.99, 39.6, 44.17, 47.72, 40.49, 42.24, 46.54, 39.63, 39.6, 48.2, 43.2, 39.63, 39.69, 43.92, 39.62, 39.6, 39.97, 39.92, 46.21, 47.63, 43.33, 40.55, 41.85, 39.76, 40.09, 43.46, 41.27, 42.18, 39.6, 39.77, 44.85], [41.4, 44.07, 41.81, 41.4, 55.78, 41.86, 41.4, 42.17, 41.4, 46.4, 43.82, 41.4, 41.84, 41.73, 43.7, 41.81, 43.39, 41.59, 45.48, 45.43, 43.83, 41.59, 42.1, 41.48, 41.41, 45.89, 43.89, 41.97, 41.77, 47.21, 44.11, 42.46, 44.3, 41.4, 42.58, 41.4, 42.1, 45.3, 41.4, 45.59, 46.44, 41.74, 46.0, 41.51, 42.15, 41.66, 44.32, 41.59, 45.37, 44.93, 41.53, 46.6, 42.78, 44.35, 42.63, 41.53, 41.45, 42.22, 47.25, 44.1, 42.43, 41.82, 42.03, 42.86, 41.4, 41.75, 41.51, 47.5, 44.42, 41.4, 43.71, 42.22, 44.84, 42.34, 41.4, 43.1, 41.4, 41.85, 45.25, 43.05, 43.71, 41.4, 41.4, 41.4, 41.4, 41.4, 44.92, 41.69, 41.4, 41.43, 41.4, 41.56, 43.72, 47.24, 41.55, 45.21, 41.4, 41.41, 46.17, 42.01, 44.27, 41.4, 41.95, 41.48, 44.42, 41.81, 41.49, 41.58, 44.24, 41.45, 48.74, 41.41, 41.4, 41.87, 41.54, 41.4, 41.4, 41.41, 41.4, 41.51, 41.52, 42.28, 45.74, 41.4, 46.62, 41.56, 41.43, 43.64, 42.04, 42.01, 42.93, 41.43, 46.21, 43.02, 41.78, 44.25, 41.9, 41.4, 41.4], [62.68, 62.86, 64.41, 68.7, 66.01, 59.94, 65.77, 68.44, 62.3, 67.86, 68.11, 61.63, 63.49, 67.66, 61.48, 61.8, 66.07, 65.61, 57.55, 68.7, 63.75, 60.59, 60.01, 63.1, 66.54, 63.89, 66.11, 68.93, 67.59, 65.9, 63.35, 69.05, 55.43, 68.02, 63.9, 64.95, 65.79, 55.69, 69.25, 60.1, 65.38, 63.73, 66.54, 65.73, 63.2, 62.34, 69.13, 66.65, 65.78, 66.73, 64.54, 70.14, 66.31, 65.45, 65.11, 65.26, 64.4, 60.26, 68.85, 63.06, 64.31, 66.27, 63.08, 70.45, 61.48, 65.45, 70.87, 63.62, 65.68, 62.27, 65.94, 64.96, 67.66, 67.15, 62.42, 62.67, 63.72, 62.09, 59.21, 68.61, 70.25, 58.65, 66.24, 64.94, 62.93, 63.46, 63.15, 68.55, 60.3, 68.78, 59.49, 70.15, 66.76, 63.02, 65.2, 66.6, 67.37, 66.24, 64.46, 61.24, 63.22, 67.3, 62.15, 62.93, 67.64, 68.63, 68.11, 68.36, 66.33, 62.95, 69.36, 68.45, 69.62, 64.87, 69.98, 60.78, 60.81, 65.3, 65.05, 58.44, 68.11, 69.36, 57.66, 62.24, 65.68, 64.44, 62.12, 57.39, 64.87, 66.14, 66.54, 62.28, 62.32, 70.09, 64.39, 66.94, 66.84, 62.32, 63.19], [43.25, 41.62, 41.63, 41.49, 42.13, 41.4, 41.4, 41.57, 45.82, 41.41, 41.4, 42.68, 43.95, 41.42, 41.67, 41.41, 41.89, 41.41, 41.4, 44.53, 41.4, 41.71, 42.36, 41.51, 41.4, 41.4, 42.43, 42.31, 42.75, 41.83, 43.77, 41.41, 41.41, 41.4, 41.4, 41.83, 41.46, 42.9, 41.4, 41.4, 41.86, 42.87, 41.81, 41.7, 41.54, 41.45, 43.56, 42.53, 42.59, 41.8, 42.91, 42.35, 41.66, 41.54, 41.41, 42.07, 43.66, 41.61, 44.11, 42.53, 41.46, 41.4, 41.42, 42.1, 42.16, 41.4, 42.76, 41.44, 41.6, 42.1, 41.4, 43.04, 44.02, 41.65, 43.31, 41.98, 41.4, 44.43, 44.87, 45.96, 44.87, 41.43, 43.28, 42.95, 43.59, 41.4, 42.9, 41.49, 43.16, 43.04, 42.36, 41.94, 41.42, 41.4, 42.78, 42.99, 41.42, 42.81, 42.47, 41.41, 41.97, 41.4, 42.33, 43.35, 42.17, 47.66, 41.4, 41.76, 41.41, 43.37, 43.53, 41.6, 43.55, 41.47, 41.7, 41.99, 41.49, 41.4, 41.5, 42.2, 41.69, 43.69, 41.4, 41.4, 41.47, 44.14, 43.13, 41.4, 44.92, 41.42, 41.95, 41.9, 41.43, 41.4, 41.65, 41.4, 42.25, 41.42, 41.4], [43.2, 43.2, 43.2, 43.2, 43.2, 43.2, 43.2, 43.2, 43.2, 43.2, 43.2, 43.2, 43.2, 43.2, 43.2, 43.2, 43.2, 43.2, 43.2, 43.2, 43.2, 43.2, 43.2, 43.2, 43.2, 43.2, 43.2, 43.2, 43.2, 43.2, 43.2, 43.2, 43.2, 43.2, 43.2, 43.2, 43.2, 43.2, 43.2, 43.2, 43.2, 43.2, 43.2, 43.2, 43.2, 43.2, 43.2, 43.2, 43.2, 43.2, 43.2, 43.2, 43.2, 43.2, 43.2, 43.2, 43.2, 43.2, 43.2, 43.2, 43.2, 43.2, 43.2, 43.2, 43.2, 43.2, 43.2, 43.2, 43.2, 43.2, 43.2, 43.2, 43.2, 43.2, 43.2, 43.2, 43.2, 43.2, 43.2, 43.2, 43.2, 43.2, 43.2, 43.2, 43.2, 43.2, 43.2, 43.2, 43.2, 43.2, 43.2, 43.2, 43.2, 43.2, 43.2, 43.2, 43.2, 43.2, 43.2, 43.2, 43.2, 43.2, 43.2, 43.2, 43.2, 43.2, 43.2, 43.2, 43.2, 43.2, 43.2, 43.2, 43.2, 43.2, 43.2, 43.2, 43.2, 43.2, 43.2, 43.2, 43.2, 43.2, 43.2, 43.2, 43.2, 43.2, 43.2, 43.2, 43.2, 43.2, 43.2, 43.2, 43.2, 43.2, 43.2, 43.2, 43.2, 43.2, 43.2]]\n"
     ]
    }
   ],
   "source": [
    "print(results)\n",
    "X = np.array(results)"
   ]
  },
  {
   "cell_type": "code",
   "execution_count": 43,
   "metadata": {},
   "outputs": [
    {
     "name": "stdout",
     "output_type": "stream",
     "text": [
      "0.023516112570704167\n"
     ]
    }
   ],
   "source": [
    "corr_coef = np.corrcoef(X[4], X[1])[0, 1]\n",
    "print(corr_coef)"
   ]
  },
  {
   "cell_type": "code",
   "execution_count": 44,
   "metadata": {},
   "outputs": [],
   "source": [
    "def sample_variance(X):\n",
    "    n = len(X[0])\n",
    "    k = len(X)    \n",
    "    som = 0\n",
    "    for i in range(n):\n",
    "        for j in range(k):\n",
    "            t = np.subtract(X[j,i]-np.mean(X[:,i]),np.mean(X[j,:]))+np.mean(X)\n",
    "            som += 2*t**2\n",
    "    return som/(k-1)/(n-1)"
   ]
  },
  {
   "cell_type": "code",
   "execution_count": 45,
   "metadata": {},
   "outputs": [
    {
     "name": "stdout",
     "output_type": "stream",
     "text": [
      "Sample variance:\n",
      "21.637971111111117\n",
      "To find g value:\n",
      "(k-1) is:\n",
      "8\n",
      "(k-1)*(n0-1) is:\n",
      "32\n"
     ]
    }
   ],
   "source": [
    "print('Sample variance:')\n",
    "print(sample_variance(X))\n",
    "\n",
    "print('To find g value:')\n",
    "print('(k-1) is:')\n",
    "print(len(X)-1)\n",
    "print('(k-1)*(n0-1) is:')\n",
    "print((len(X)-1)*(len(X[0])-1))"
   ]
  },
  {
   "cell_type": "code",
   "execution_count": 49,
   "metadata": {},
   "outputs": [
    {
     "data": {
      "text/plain": [
       "180.72249851711115"
      ]
     },
     "execution_count": 49,
     "metadata": {},
     "output_type": "execute_result"
    }
   ],
   "source": [
    "d = 1\n",
    "g = 2.89\n",
    "\n",
    "\n",
    "def find_N(X,g,d):\n",
    "    S2 = sample_variance(X)\n",
    "    ans = max([len(X[0]),g**2*S2/d**2])\n",
    "    return ans\n",
    "\n",
    "find_N(X,g,d)"
   ]
  },
  {
   "cell_type": "code",
   "execution_count": 8,
   "metadata": {},
   "outputs": [
    {
     "data": {
      "text/plain": [
       "array([64.1128777 , 64.03172662, 64.54848921, 63.73266187, 42.41604317,\n",
       "       42.92546763, 64.82366906, 42.24633094, 43.2       ])"
      ]
     },
     "execution_count": 8,
     "metadata": {},
     "output_type": "execute_result"
    }
   ],
   "source": [
    "np.mean(X,axis=1)"
   ]
  },
  {
   "cell_type": "code",
   "execution_count": null,
   "metadata": {},
   "outputs": [],
   "source": []
  }
 ],
 "metadata": {
  "application/vnd.databricks.v1+notebook": {
   "dashboards": [],
   "language": "python",
   "notebookMetadata": {
    "pythonIndentUnit": 2
   },
   "notebookName": "Homework 13.2",
   "widgets": {
    "Arrival rate": {
     "currentValue": "10",
     "nuid": "d0bd0d5c-bd02-444e-87d5-5ce1fdfd6da7",
     "widgetInfo": {
      "defaultValue": "Input # of passengers' arrival rate: ",
      "label": null,
      "name": "Arrival rate",
      "options": {
       "autoCreated": null,
       "validationRegex": null,
       "widgetType": "text"
      },
      "widgetType": "text"
     }
    },
    "Number of checkers": {
     "currentValue": "1",
     "nuid": "97f20d25-b0ff-4d35-8624-94a02d8830b4",
     "widgetInfo": {
      "defaultValue": "Input # of checkers available: ",
      "label": null,
      "name": "Number of checkers",
      "options": {
       "autoCreated": null,
       "validationRegex": null,
       "widgetType": "text"
      },
      "widgetType": "text"
     }
    },
    "Number of scanners": {
     "currentValue": "1",
     "nuid": "86cfbf2b-2d2b-4e2e-8156-7aca89f9fd8e",
     "widgetInfo": {
      "defaultValue": "Input # of scanners available: ",
      "label": null,
      "name": "Number of scanners",
      "options": {
       "autoCreated": null,
       "validationRegex": null,
       "widgetType": "text"
      },
      "widgetType": "text"
     }
    }
   }
  },
  "kernelspec": {
   "display_name": "Python 3 (ipykernel)",
   "language": "python",
   "name": "python3"
  },
  "language_info": {
   "codemirror_mode": {
    "name": "ipython",
    "version": 3
   },
   "file_extension": ".py",
   "mimetype": "text/x-python",
   "name": "python",
   "nbconvert_exporter": "python",
   "pygments_lexer": "ipython3",
   "version": "3.9.13"
  }
 },
 "nbformat": 4,
 "nbformat_minor": 1
}
