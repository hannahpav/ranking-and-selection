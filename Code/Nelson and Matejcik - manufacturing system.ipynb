{
 "cells": [
  {
   "cell_type": "code",
   "execution_count": 1,
   "id": "41a8c1a5",
   "metadata": {},
   "outputs": [],
   "source": [
    "import numpy as np\n",
    "import model\n",
    "import pandas as pd"
   ]
  },
  {
   "cell_type": "markdown",
   "id": "3c019c45",
   "metadata": {},
   "source": [
    "Example model, manufacturing system:"
   ]
  },
  {
   "cell_type": "code",
   "execution_count": 2,
   "id": "085cac11",
   "metadata": {},
   "outputs": [],
   "source": [
    "def bottle_filling(fbd,fsbd,lbd,lsbd,mo,frt,fsrt,lrt,lsrt,mt,p,mh):\n",
    "\n",
    "    import numpy as np\n",
    "    import simpy\n",
    "\n",
    "        # Function to generate random breakdown times\n",
    "    def breakdown_time():\n",
    "        return np.random.exponential(fbd)  # Breakdown occurence distribution\n",
    "        #return np.random.weibull(5,fbd)  # Breakdown occurence distribution\n",
    "\n",
    "    def small_breakdown_time():\n",
    "        return np.random.exponential(fsbd)  # Breakdown occurence distribution\n",
    "        #return np.random.weibull(5,fsbd)  # Breakdown occurence distribution\n",
    "\n",
    "    # Function to generate random breakdown times\n",
    "    def labeller_breakdown_time():\n",
    "        return np.random.exponential(lbd)  # Breakdown occurence distribution\n",
    "        #return np.random.weibull(5,lbd)  # Breakdown occurence distribution\n",
    "\n",
    "    def labeller_small_breakdown_time():\n",
    "        return np.random.exponential(lsbd)  # Breakdown occurence distribution\n",
    "        #return np.random.weibull(5,lsbd)  # Breakdown occurence distribution\n",
    "\n",
    "    def maintenance_occurence_time():\n",
    "        return mo  #Maintenance occurence distribution\n",
    "\n",
    "    # Function to generate random repair times\n",
    "    def repair_time():\n",
    "        return np.random.exponential(frt)  #filler Repair time distribution\n",
    "    def small_repair_time():\n",
    "        return np.random.exponential(fsrt)  #filler small Repair time distribution\n",
    "\n",
    "    def labeller_repair_time():\n",
    "        return np.random.exponential(lrt)  #labeller Repair time distribution\n",
    "    def labeller_small_repair_time():\n",
    "        return np.random.exponential(lsrt)   #labeller small Repair time distribution\n",
    "    def maintenance_time():\n",
    "        return mt  # maintenance time\n",
    "\n",
    "    # Bottling process\n",
    "    def bottling(env, machine, stats):\n",
    "        while True:\n",
    "            yield env.timeout(1)  # Bottling takes 1 time unit\n",
    "\n",
    "            if not machine.working:\n",
    "                # If machine is not working due to breakdown, skip this cycle\n",
    "                continue\n",
    "            stats['total_bottles'] += 1\n",
    "\n",
    "    # Breakdown process\n",
    "    def breakdown(env, machine, stats):\n",
    "        while True:\n",
    "            yield env.timeout(breakdown_time())\n",
    "            if machine.working:\n",
    "                machine.working = False\n",
    "                stats['filler_big_breakdowns'] += 1\n",
    "                machine.down.succeed()  # Trigger the repair process\n",
    "    def small_breakdown(env, machine, stats):\n",
    "        while True:\n",
    "            yield env.timeout(small_breakdown_time())\n",
    "            if machine.working:\n",
    "                machine.working = False\n",
    "                stats['filler_small_breakdowns'] += 1\n",
    "                machine.down2.succeed()  # Trigger the repair process\n",
    "    # Breakdown process\n",
    "    def labeller_breakdown(env, machine, stats):\n",
    "        while True:\n",
    "            yield env.timeout(labeller_breakdown_time())\n",
    "            if machine.working:\n",
    "                machine.working = False\n",
    "                stats['labeller_big_breakdowns'] += 1\n",
    "                machine.down3.succeed()  # Trigger the repair process\n",
    "    def labeller_small_breakdown(env, machine, stats):\n",
    "        while True:\n",
    "            yield env.timeout(labeller_small_breakdown_time())\n",
    "            if machine.working:\n",
    "                machine.working = False\n",
    "                stats['labeller_small_breakdowns'] += 1\n",
    "                machine.down4.succeed()  # Trigger the repair process\n",
    "    def maintenance(env, machine, stats):\n",
    "        while True:\n",
    "            yield env.timeout(maintenance_occurence_time())\n",
    "            if machine.working:\n",
    "                machine.working = False\n",
    "                stats['Total maintenance occurences'] += 1\n",
    "                machine.down5.succeed()  # Trigger the repair process\n",
    "\n",
    "        # Repair process\n",
    "    def repair(env, machine, stats):\n",
    "        while True:\n",
    "            yield machine.down\n",
    "            repair_duration = repair_time()  # Get repair duration\n",
    "            yield env.timeout(repair_duration)  # Wait for the repair duration\n",
    "            stats['total_downtime'] += repair_duration\n",
    "            stats['big_filler_downtime'] += repair_duration\n",
    "            machine.working = True\n",
    "            machine.down = env.event()  # Reset repair event\n",
    "\n",
    "    def small_repair(env, machine, stats):\n",
    "        while True:\n",
    "            yield machine.down2\n",
    "            repair_duration = small_repair_time()  # Get repair duration\n",
    "            yield env.timeout(repair_duration)  # Wait for the repair duration\n",
    "            stats['total_downtime'] += repair_duration\n",
    "            stats['small_filler_downtime'] += repair_duration\n",
    "            machine.working = True\n",
    "            machine.down2 = env.event()  # Reset repair event\n",
    "\n",
    "    # Repair process\n",
    "    def labeller_repair(env, machine, stats):\n",
    "        while True:\n",
    "            yield machine.down3\n",
    "            repair_duration = labeller_repair_time()  # Get repair duration\n",
    "            yield env.timeout(repair_duration)  # Wait for the repair duration\n",
    "            stats['total_downtime'] += repair_duration\n",
    "            stats['labeller_big_downtime'] += repair_duration\n",
    "            machine.working = True\n",
    "            machine.down3 = env.event()  # Reset repair event\n",
    "\n",
    "    def labeller_small_repair(env, machine, stats):\n",
    "        while True:\n",
    "            yield machine.down4\n",
    "            repair_duration = labeller_small_repair_time()  # Get repair duration\n",
    "            yield env.timeout(repair_duration)  # Wait for the repair duration\n",
    "            stats['total_downtime'] += repair_duration\n",
    "            stats['labeller_small_downtime'] += repair_duration\n",
    "            machine.working = True\n",
    "            machine.down4 = env.event()  # Reset repair event\n",
    "\n",
    "    def maintenance_action(env, machine, stats):\n",
    "        while True:\n",
    "            yield machine.down5\n",
    "            repair_duration = maintenance_time()  # Get repair duration\n",
    "            yield env.timeout(repair_duration)  # Wait for the repair duration\n",
    "            stats['total_downtime'] += repair_duration\n",
    "            stats['Total_maintenance_time'] += repair_duration\n",
    "            machine.working = True\n",
    "            machine.down5 = env.event()  # Reset repair event\n",
    "\n",
    "    # Simulation setup\n",
    "    env = simpy.Environment()\n",
    "    machine = simpy.Resource(env, capacity=1)  # Bottling machine resource\n",
    "    machine.working = True  # Initially machine is working\n",
    "    machine.down = env.event()  # Create event for filler breakdown\n",
    "    machine.down2 = env.event()  # Create event for small filler breakdown\n",
    "    machine.down3 = env.event()  # Create event for labeller breakdown\n",
    "    machine.down4 = env.event()  # Create event for small labeller breakdown\n",
    "    machine.down5 = env.event()  # Create event for machine maintenance\n",
    "\n",
    "    stats = {'total_bottles': 0, 'filler_big_breakdowns': 0, 'total_downtime': 0, 'filler_small_breakdowns': 0,\n",
    "             'labeller_small_breakdowns': 0, 'labeller_big_breakdowns': 0 ,'small_filler_downtime': 0, 'big_filler_downtime': 0\n",
    "            , 'Total_maintenance_time': 0,'labeller_small_downtime':0,'labeller_big_downtime':0,'Total maintenance occurences':0}\n",
    "\n",
    "    # Start processes\n",
    "    env.process(bottling(env, machine, stats))\n",
    "\n",
    "    #Filler inputs:\n",
    "    env.process(repair(env, machine, stats))\n",
    "    env.process(breakdown(env, machine, stats))\n",
    "    env.process(small_repair(env, machine, stats))\n",
    "    env.process(small_breakdown(env, machine, stats))\n",
    "    #Labeller inputs:\n",
    "    env.process(labeller_repair(env, machine, stats))\n",
    "    env.process(labeller_breakdown(env, machine, stats))\n",
    "    env.process(labeller_small_repair(env, machine, stats))\n",
    "    env.process(labeller_small_breakdown(env, machine, stats))\n",
    "    #Maintenance inputs:\n",
    "    env.process(maintenance_action(env, machine, stats))\n",
    "    env.process(maintenance(env, machine, stats))\n",
    "\n",
    "    # Run simulation\n",
    "    simulation_time = 168*60*6 #Simulation time in minutes (6 weeks)\n",
    "    \n",
    "    env.run(until=simulation_time)  # Run the simulation for amount of simulation time\n",
    "    \n",
    "    ans = stats['total_bottles']*100-p*30*168*6-10000*6*mh\n",
    "\n",
    "    return ans\n",
    "\n",
    "#How to use the function: bottle_filling(fbd,fsmb,lbd,lsbd,mo,frt,fsrt,lrt,lsrt,mt);\n",
    "#fbd:filler breakdown rate ,fsmb: filler small breakdown rate,lbd:labeller breakdown rate,\n",
    "#lsbd: labeller small breakdown rate ,mo: maintenance rate ,frt: filler big breakdown repair time,\n",
    "#fsrt: filler small breakdown repair time,lrt: labeller repair time,lsrt: labeller small breakdown repair time,\n",
    "#mt: maintenance time. All inputs are epxonential with the expected value being the input, except for maintenance time and\n",
    "#maintenance frequency, these are a specific time between maintenance and a specific time for maintenance, since they usually\n",
    "#can be determined by operations. Everything is in minutes, the output is the amount of minutes of filling line operation in 4 weeks"
   ]
  },
  {
   "cell_type": "code",
   "execution_count": 3,
   "id": "099ba7f7",
   "metadata": {},
   "outputs": [],
   "source": [
    "def create_single_X(k,n0):\n",
    "    ll = []\n",
    "    np.random.seed(1208)\n",
    "    for i in range(n0):\n",
    "        ll.append(bottle_filling(k[0],k[1],k[2],k[3],k[4],k[5],k[6],k[7],k[8],k[9],k[10],k[11]))\n",
    "    return ll\n",
    "                   \n",
    "    \n",
    "    \n"
   ]
  },
  {
   "cell_type": "code",
   "execution_count": 4,
   "id": "e51c8eaf",
   "metadata": {},
   "outputs": [],
   "source": [
    "def create_X(k, n0):\n",
    "    l = []\n",
    "    for i in range(len(k)):        \n",
    "        l.append(create_single_X(k[i],n0))\n",
    "    return np.array(l)\n",
    "    "
   ]
  },
  {
   "cell_type": "code",
   "execution_count": 5,
   "id": "a4c34cc7",
   "metadata": {},
   "outputs": [],
   "source": [
    "k1 = [24*60,60,36*60,45,24*7*60,2*60,2,4*60,4,4*60,2,4]\n",
    "k2 = [24*60,60,36*60,45,24*7*60,2*60,1,4*60,2,4*60,3,4]\n",
    "k3 = [48*60,60,72*60,45,24*7*60,2*60,2,4*60,4,4*60,2,8]\n",
    "k4 = [72*60,60,72*60,45,24*7*60,2*60,1,4*60,2,4*60,3,8]\n",
    "k = [k1,k2,k3,k4]"
   ]
  },
  {
   "cell_type": "code",
   "execution_count": 21,
   "id": "4de89906",
   "metadata": {},
   "outputs": [
    {
     "name": "stdout",
     "output_type": "stream",
     "text": [
      "[[4218120 4369720 4220520 ... 4393320 4226020 4241620]\n",
      " [4176980 4355380 4810380 ... 4510580 4034780 4429380]\n",
      " [4303320 4448020 4339920 ... 4456620 4385820 4378020]\n",
      " [4538480 4567480 4397280 ... 4807280 4456980 4909280]]\n",
      "0.003560920759755628\n"
     ]
    }
   ],
   "source": [
    "n0 = 565\n",
    "X = create_X(k,n0)\n",
    "print(X)\n",
    "corr_coef = np.corrcoef(X[0], X[2])[0, 1]\n",
    "print(corr_coef)"
   ]
  },
  {
   "cell_type": "code",
   "execution_count": 16,
   "id": "23b1084c",
   "metadata": {},
   "outputs": [
    {
     "name": "stdout",
     "output_type": "stream",
     "text": [
      "-0.17739722948671618\n"
     ]
    }
   ],
   "source": [
    "corr_coef = np.corrcoef(X[1], X[2])[0, 1]\n",
    "print(corr_coef)"
   ]
  },
  {
   "cell_type": "code",
   "execution_count": 17,
   "id": "c604e0a2",
   "metadata": {},
   "outputs": [],
   "source": [
    "def sample_variance(X):\n",
    "    n = len(X[0])\n",
    "    k = len(X)    \n",
    "    som = 0\n",
    "    for i in range(n):\n",
    "        for j in range(k):\n",
    "            t = np.subtract(X[j,i]-np.mean(X[:,i]),np.mean(X[j,:]))+np.mean(X)\n",
    "            som += 2*t**2\n",
    "    return som/(k-1)/(n-1)\n",
    "        "
   ]
  },
  {
   "cell_type": "code",
   "execution_count": 18,
   "id": "70013cef",
   "metadata": {},
   "outputs": [
    {
     "name": "stdout",
     "output_type": "stream",
     "text": [
      "Sample variance:\n",
      "55.3398755\n",
      "To find g value:\n",
      "(k-1) is:\n",
      "3\n",
      "(k-1)*(n0-1) is:\n",
      "12\n"
     ]
    }
   ],
   "source": [
    "print('Sample variance:')\n",
    "print(sample_variance(X)/10**9)\n",
    "\n",
    "print('To find g value:')\n",
    "print('(k-1) is:')\n",
    "print(len(X)-1)\n",
    "print('(k-1)*(n0-1) is:')\n",
    "print((len(X)-1)*(len(X[0])-1))"
   ]
  },
  {
   "cell_type": "code",
   "execution_count": 20,
   "id": "01a77b2b",
   "metadata": {},
   "outputs": [
    {
     "data": {
      "text/plain": [
       "790.2672571088751"
      ]
     },
     "execution_count": 20,
     "metadata": {},
     "output_type": "execute_result"
    }
   ],
   "source": [
    "d = 2*10**4\n",
    "g = 2.39\n",
    "\n",
    "def find_N(X,g,d):\n",
    "    S2 = sample_variance(X)\n",
    "    ans = max([len(X[0]),g**2*S2/d**2])\n",
    "    return ans\n",
    "find_N(X,g,d)"
   ]
  },
  {
   "cell_type": "code",
   "execution_count": 22,
   "id": "baad51fe",
   "metadata": {},
   "outputs": [
    {
     "data": {
      "text/plain": [
       "array([4220467.61061947, 4407255.04424779, 4337455.04424779,\n",
       "       4624475.04424779])"
      ]
     },
     "execution_count": 22,
     "metadata": {},
     "output_type": "execute_result"
    }
   ],
   "source": [
    "np.mean(X,axis=1)"
   ]
  },
  {
   "cell_type": "code",
   "execution_count": null,
   "id": "782acc77",
   "metadata": {},
   "outputs": [],
   "source": [
    "4"
   ]
  }
 ],
 "metadata": {
  "kernelspec": {
   "display_name": "Python 3 (ipykernel)",
   "language": "python",
   "name": "python3"
  },
  "language_info": {
   "codemirror_mode": {
    "name": "ipython",
    "version": 3
   },
   "file_extension": ".py",
   "mimetype": "text/x-python",
   "name": "python",
   "nbconvert_exporter": "python",
   "pygments_lexer": "ipython3",
   "version": "3.9.13"
  }
 },
 "nbformat": 4,
 "nbformat_minor": 5
}
