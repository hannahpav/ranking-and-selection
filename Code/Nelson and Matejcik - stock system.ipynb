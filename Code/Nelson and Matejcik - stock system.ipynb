{
 "cells": [
  {
   "cell_type": "code",
   "execution_count": 1,
   "id": "41a8c1a5",
   "metadata": {},
   "outputs": [],
   "source": [
    "import numpy as np\n",
    "import model\n",
    "import pandas as pd\n"
   ]
  },
  {
   "cell_type": "markdown",
   "id": "3c019c45",
   "metadata": {},
   "source": [
    "Example model, inventory system:"
   ]
  },
  {
   "cell_type": "code",
   "execution_count": 2,
   "id": "099ba7f7",
   "metadata": {},
   "outputs": [],
   "source": [
    "reorder_points = [10,10,10,10,20,20,20,20]\n",
    "order_sizes = [50,60,80,100,50,60,80,100]\n"
   ]
  },
  {
   "cell_type": "code",
   "execution_count": 3,
   "id": "e51c8eaf",
   "metadata": {},
   "outputs": [],
   "source": [
    "def create_X(reorder_points, order_sizes,n0):\n",
    "    l = []\n",
    "    for i in range(len(reorder_points)):\n",
    "        np.random.seed(659)\n",
    "        l.append(pd.DataFrame(model.run_experiments([reorder_points[i]], [order_sizes[i]], n0))['total_cost'])\n",
    "    return np.array(l)\n",
    "    "
   ]
  },
  {
   "cell_type": "code",
   "execution_count": 4,
   "id": "4de89906",
   "metadata": {},
   "outputs": [
    {
     "name": "stdout",
     "output_type": "stream",
     "text": [
      "Iteration 100 of 160\n",
      "Iteration 100 of 160\n",
      "Iteration 100 of 160\n",
      "Iteration 100 of 160\n",
      "Iteration 100 of 160\n",
      "Iteration 100 of 160\n",
      "Iteration 100 of 160\n",
      "Iteration 100 of 160\n",
      "[[121.7 126.9 119.7 ... 124.6 124.3 121.3]\n",
      " [122.8 123.2 119.4 ... 119.5 128.6 122.8]\n",
      " [125.4 132.3 128.2 ... 128.2 123.1 125.5]\n",
      " ...\n",
      " [120.7 119.6 118.6 ... 117.7 129.7 121.2]\n",
      " [126.3 131.3 132.4 ... 129.  124.1 124.7]\n",
      " [132.1 141.1 129.9 ... 134.3 130.3 135.3]]\n",
      "0.024473328811936684\n"
     ]
    }
   ],
   "source": [
    "n0 = 160\n",
    "\n",
    "X = create_X(reorder_points,order_sizes,n0)\n",
    "print(X)\n",
    "corr_coef = np.corrcoef(X[0], X[1])[0, 1]\n",
    "print(corr_coef)"
   ]
  },
  {
   "cell_type": "code",
   "execution_count": 170,
   "id": "c604e0a2",
   "metadata": {},
   "outputs": [],
   "source": [
    "def sample_variance(X):\n",
    "    n = len(X[0])\n",
    "    k = len(X)    \n",
    "    som = 0\n",
    "    for i in range(n):\n",
    "        for j in range(k):\n",
    "            t = np.subtract(X[j,i]-np.mean(X[:,i]),np.mean(X[j,:]))+np.mean(X)\n",
    "            som += 2*t**2\n",
    "    return som/(k-1)/(n-1)\n",
    "        "
   ]
  },
  {
   "cell_type": "code",
   "execution_count": 171,
   "id": "70013cef",
   "metadata": {},
   "outputs": [
    {
     "name": "stdout",
     "output_type": "stream",
     "text": [
      "Sample variance:\n",
      "12.716964285714267\n",
      "To find g value:\n",
      "(k-1) is:\n",
      "7\n",
      "(k-1)*(n0-1) is:\n",
      "28\n"
     ]
    }
   ],
   "source": [
    "print('Sample variance:')\n",
    "print(sample_variance(X))\n",
    "\n",
    "print('To find g value:')\n",
    "print('(k-1) is:')\n",
    "print(len(X)-1)\n",
    "print('(k-1)*(n0-1) is:')\n",
    "print((len(X)-1)*(len(X[0])-1))"
   ]
  },
  {
   "cell_type": "code",
   "execution_count": 175,
   "id": "01a77b2b",
   "metadata": {},
   "outputs": [
    {
     "data": {
      "text/plain": [
       "5"
      ]
     },
     "execution_count": 175,
     "metadata": {},
     "output_type": "execute_result"
    }
   ],
   "source": [
    "d = 5\n",
    "g = 2.89\n",
    "\n",
    "def find_N(X,g,d):\n",
    "    S2 = sample_variance(X)\n",
    "    ans = max([len(X[0]),g**2*S2/d**2])\n",
    "    return ans\n",
    "\n",
    "find_N(X,g,d)"
   ]
  },
  {
   "cell_type": "code",
   "execution_count": 5,
   "id": "baad51fe",
   "metadata": {},
   "outputs": [
    {
     "data": {
      "text/plain": [
       "array([123.863125, 123.996875, 127.058125, 132.553125, 119.334375,\n",
       "       121.058125, 126.90375 , 134.308125])"
      ]
     },
     "execution_count": 5,
     "metadata": {},
     "output_type": "execute_result"
    }
   ],
   "source": [
    "np.mean(X,axis=1)"
   ]
  },
  {
   "cell_type": "code",
   "execution_count": null,
   "id": "a5993524",
   "metadata": {},
   "outputs": [],
   "source": []
  }
 ],
 "metadata": {
  "kernelspec": {
   "display_name": "Python 3 (ipykernel)",
   "language": "python",
   "name": "python3"
  },
  "language_info": {
   "codemirror_mode": {
    "name": "ipython",
    "version": 3
   },
   "file_extension": ".py",
   "mimetype": "text/x-python",
   "name": "python",
   "nbconvert_exporter": "python",
   "pygments_lexer": "ipython3",
   "version": "3.9.13"
  }
 },
 "nbformat": 4,
 "nbformat_minor": 5
}
